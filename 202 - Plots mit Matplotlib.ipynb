{
 "cells": [
  {
   "cell_type": "markdown",
   "metadata": {},
   "source": [
    "Python Einführungskurs für das Physikalische Anfängerpraktikum der Universität Heidelberg | [Startseite](index.ipynb)\n",
    "\n",
    "---"
   ]
  },
  {
   "cell_type": "markdown",
   "metadata": {},
   "source": [
    "# 202 - Plots mit Matplotlib"
   ]
  },
  {
   "cell_type": "markdown",
   "metadata": {},
   "source": [
    "- [Einfaches Plotten](#Einfaches-Plotten)\n",
    "- [Plots gestalten](#Plots-gestalten)\n",
    "- [Mehrere Plots in einer Abbildung](#Mehrere-Plots-in-einer-Abbildung)\n",
    "- [Plots speichern](#Plots-speichern)\n",
    "- [Aufgabe 1 - Temperaturen in Heidelberg visualisieren](#Aufgabe-1---Temperaturen-in-Heidelberg-visualisieren)"
   ]
  },
  {
   "cell_type": "markdown",
   "metadata": {},
   "source": [
    "Wir können mit Numpy nun numerisch Daten auswerten, und um diese zu visualisieren können wir mit dem **Matplotlib** Modul Plots von wissenschaftlicher Qualität erstellen.\n",
    "\n",
    "Per Konvention importieren wir das PyPlot Submodul von Matplotlib unter dem Namen `plt`:"
   ]
  },
  {
   "cell_type": "code",
   "execution_count": null,
   "metadata": {
    "collapsed": true
   },
   "outputs": [],
   "source": [
    "# Zeige Plots direkt im Jupyter Notebook an\n",
    "%matplotlib inline\n",
    "# Anschließend können wir das Modul importieren\n",
    "import matplotlib.pyplot as plt # Die Abkürzung `plt` ist Konvention\n",
    "# Numpy brauchen wir immer.\n",
    "import numpy as np"
   ]
  },
  {
   "cell_type": "markdown",
   "metadata": {},
   "source": [
    "> **Hinweis:** Matplotlib kann mit verschiedenen _Backends_ arbeiten um Plots zu speichern oder auch interaktiv anzuzeigen. Der Aufruf `%matplotlib inline` konfiguriert das Modul für die **statische Anzeige** von Plots im Jupyter Notebook und muss **vor** dem Import von PyPlot ausgeführt werden. Dabei können auch Anzeigeparameter gesetzt werden:\n",
    ">\n",
    "> ```python\n",
    "> %matplotlib inline\n",
    "> import matplotlib\n",
    "> # Setzte Anzeigeparameter, z.B.:\n",
    "> matplotlib.rcParams['figure.figsize'] = (10.0, 8.0)\n",
    "> import matplotlib.pyplot as plt\n",
    "> ```\n",
    ">\n",
    "> Folgender Aufruf konfiguriert das Jupyter Notebook alternativ für die Verwendung des **interaktiven Backends**:\n",
    ">\n",
    "> ```python\n",
    "> %matplotlib notebook\n",
    "> ```\n",
    ">\n",
    "> Versucht's mal!"
   ]
  },
  {
   "cell_type": "markdown",
   "metadata": {},
   "source": [
    "## Einfaches Plotten\n",
    "\n",
    "PyPlot besitzt ein einfaches prozedurales Interface, mit denen wir mit nur einem Befehl Daten plotten können. Da dieses jedoch schnell an seine Grenzen kommt, wollen hier jedoch gleich das später unumgängliche, \"schönere\", objekt-orientierte Interface benutzen. Wer nun ein besonders schwieriges Kapitel fürchtet, der sei beruhigt, die zusätzliche Komplexität des objekt-orientierten Interface beschränkt sich für uns darauf, dass wir vor jedem Plot zwei weitere Befehle absetzen müssen:"
   ]
  },
  {
   "cell_type": "markdown",
   "metadata": {},
   "source": [
    "- Um einen Plot zu erstellen brauchen wir zunächst zwei Objekte, die wir erstellen müssen. Eines repräsentiert die Abbildung, in das unser Plot gezeichnet werden wird, das andere repräsentiert einen Axenplot:"
   ]
  },
  {
   "cell_type": "code",
   "execution_count": null,
   "metadata": {
    "collapsed": false
   },
   "outputs": [],
   "source": [
    "abb1 = plt.figure()\n",
    "axes1 = abb1.add_subplot(1,1,1) # Für's erste "
   ]
  },
  {
   "cell_type": "markdown",
   "metadata": {},
   "source": [
    "Unser plot-Objekt besitzt eine Vielzahl an Methoden, mit denen wir unseren Plot füllen und anpassen können\n",
    "- **`plot`** füllt unseren Plot mit einer Kurve. Die Methode nimmt x- und y-Daten sowie eine Vielzahl von optionalen Argumenten zur Konfiguration an. Fehlen die x-Daten, werden die Indizes der y-Daten verwendet:"
   ]
  },
  {
   "cell_type": "code",
   "execution_count": null,
   "metadata": {
    "collapsed": false
   },
   "outputs": [],
   "source": [
    "axes1.plot(np.arange(100)**2)\n",
    "\n",
    "abb1 # weist Jupyter an, das Bild abb1 im Notebook anzuzeigen"
   ]
  },
  {
   "cell_type": "markdown",
   "metadata": {},
   "source": [
    "Ein weitere Kurve kann einfach durch einen weiteren Aufruf von **`plot`** zu unserem bestehenden Plot hinzugefügt werden."
   ]
  },
  {
   "cell_type": "code",
   "execution_count": null,
   "metadata": {
    "collapsed": false
   },
   "outputs": [],
   "source": [
    "axes1.plot(100 * np.arange(100))\n",
    "abb1"
   ]
  },
  {
   "cell_type": "markdown",
   "metadata": {},
   "source": [
    "Entfernt das '`#`'-Zeichen und schaut euch die Argumente in der Dokumentation an, mit denen wir den Plot konfigurieren können:"
   ]
  },
  {
   "cell_type": "code",
   "execution_count": null,
   "metadata": {
    "collapsed": true
   },
   "outputs": [],
   "source": [
    "#axes1.plot?"
   ]
  },
  {
   "cell_type": "markdown",
   "metadata": {},
   "source": [
    "Matplotlib bietet unzählige Möglichkeiten, das Aussehen von Plots anzupassen! Ihr könnt oben einige ausprobieren, wie bspw. `color`, `linestyle` und `linewidth`."
   ]
  },
  {
   "cell_type": "markdown",
   "metadata": {},
   "source": [
    "- **`scatter`** plottet Datenpunkte statt einer Linie:"
   ]
  },
  {
   "cell_type": "code",
   "execution_count": null,
   "metadata": {
    "collapsed": false
   },
   "outputs": [],
   "source": [
    "abb2 = plt.figure()\n",
    "axes2 = abb2.add_subplot(1,1,1)\n",
    "\n",
    "axes2.scatter(np.arange(10), np.arange(10)**2)"
   ]
  },
  {
   "cell_type": "code",
   "execution_count": null,
   "metadata": {
    "collapsed": true
   },
   "outputs": [],
   "source": [
    "#axes2.scatter?"
   ]
  },
  {
   "cell_type": "markdown",
   "metadata": {},
   "source": [
    "- **`errorbar`** nimmt zusätzlich Fehler in x- und y-Richtung an und zeichnet Fehlerbalken:"
   ]
  },
  {
   "cell_type": "code",
   "execution_count": null,
   "metadata": {
    "collapsed": false
   },
   "outputs": [],
   "source": [
    "abb3 = plt.figure()\n",
    "axes3 = abb3.add_subplot(1,1,1)\n",
    "\n",
    "axes3.errorbar(np.arange(10), np.arange(10)**2, yerr=np.arange(10))"
   ]
  },
  {
   "cell_type": "code",
   "execution_count": null,
   "metadata": {
    "collapsed": false
   },
   "outputs": [],
   "source": [
    "#axes3.errorbar?"
   ]
  },
  {
   "cell_type": "markdown",
   "metadata": {},
   "source": [
    "- **`hist`** plottet schnell ein Histogramm:"
   ]
  },
  {
   "cell_type": "code",
   "execution_count": null,
   "metadata": {
    "collapsed": false
   },
   "outputs": [],
   "source": [
    "abb4 = plt.figure()\n",
    "axes4 = abb4.add_subplot(1,1,1)\n",
    "\n",
    "_ = axes4.hist(np.random.normal(size=100), bins=10)"
   ]
  },
  {
   "cell_type": "code",
   "execution_count": null,
   "metadata": {
    "collapsed": true
   },
   "outputs": [],
   "source": [
    "#axes4.hist?"
   ]
  },
  {
   "cell_type": "markdown",
   "metadata": {},
   "source": [
    "> **Hinweis:** Alternativ könnt ihr Histogramme mit `numpy.histogram` und `matplotlib.axes.Axes.bar` plotten. Diese Methode bietet etwas mehr Kontrolle über die Berechnung der Histogrammdaten."
   ]
  },
  {
   "cell_type": "markdown",
   "metadata": {},
   "source": [
    "- **`imshow`** visualisiert zweidimensionale Daten:"
   ]
  },
  {
   "cell_type": "code",
   "execution_count": null,
   "metadata": {
    "collapsed": false
   },
   "outputs": [],
   "source": [
    "abb5 = plt.figure()\n",
    "axes5 = abb5.add_subplot(1,1,1)\n",
    "\n",
    "im5 = axes5.imshow(np.random.random((64, 64)), interpolation='none')\n",
    "abb5.colorbar(im5)"
   ]
  },
  {
   "cell_type": "code",
   "execution_count": null,
   "metadata": {
    "collapsed": true
   },
   "outputs": [],
   "source": [
    "#axes5.imshow?"
   ]
  },
  {
   "cell_type": "markdown",
   "metadata": {},
   "source": [
    "## Plots gestalten\n",
    "\n",
    "Mit Matplotlib könnt ihr jegliche Plots erstellen, die ihr euch vorstellen könnt. Überlegt euch zuerst, wie der Plot aussehen soll. Die [Gallerie](http://matplotlib.org/gallery.html) kann dabei helfen. Mit einer beherzten Websuche, die meist direkt zur [Dokumentation](http://matplotlib.org/api/pyplot_api.html) führt, findet ihr dann die Funktionen, die ihr braucht.\n",
    "\n",
    "> **Hinweis:** Plotten ist eine Kunst.\n",
    "\n",
    "> **Weiterer Hinweis:** Versucht's mal mit `plt.xkcd()`."
   ]
  },
  {
   "cell_type": "markdown",
   "metadata": {},
   "source": [
    "### Titel, und Achsen und Legende mit LaTeX\n",
    "\n",
    "Strings in Matplotlib wie Titel und Achsenbeschriftungen können **LaTeX-Code** enthalten. Text zwischen `$`-Zeichen wird dabei wie gewohnt im _Math-Mode_ gesetzt.\n",
    "\n",
    "> **Achtung:** Einige Zeichen wie `\\t` (`<TAB>`) oder `\\n` (`<RETURN>`) werden von Python als Steuerzeichen und daher nicht als LaTeX-Code interpretiert. Markiert Strings, die LaTeX-Code enthalten, daher mit dem Prefix `r` (für _raw_), sodass Steuerzeichen ignoriert werden."
   ]
  },
  {
   "cell_type": "code",
   "execution_count": null,
   "metadata": {
    "collapsed": false,
    "scrolled": false
   },
   "outputs": [],
   "source": [
    "abb6 = plt.figure()\n",
    "axes6 = abb6.add_subplot(1,1,1)\n",
    "\n",
    "x = np.linspace(0, 2 * np.pi, 100)\n",
    "# Plot mit Label für Legende\n",
    "axes6.plot(x, np.sin(x), label=r'$A \\times \\sin(\\phi)$')\n",
    "axes6.plot(x, np.cos(x), label=r'$A \\times \\cos(\\phi)$')\n",
    "# Titel\n",
    "axes6.set_title('Oszillation')\n",
    "# Achsenlimits\n",
    "axes6.set_xlim(0, 2 * np.pi)\n",
    "axes6.set_ylim(-1, 1)\n",
    "# Achsenbeschriftungen\n",
    "axes6.set_xlabel(r'Winkel $\\phi \\, [\\mathrm{rad}]$')\n",
    "axes6.set_ylabel(r'Auslenkung $d \\, [\\mathrm{cm}]$')\n",
    "# Legende\n",
    "axes6.legend(loc='lower left')"
   ]
  },
  {
   "cell_type": "markdown",
   "metadata": {},
   "source": [
    "## Mehrere Plots in einer Abbildung\n",
    "\n",
    "Eine Abbildung kann ganz einfach in mehrere `subplots` aufgeteilt werden. Hier zeigt sich jetzt die Bedeutung der drei einsen, die wir als Parameter dem `add_subplot` Befehl übergeben haben:"
   ]
  },
  {
   "cell_type": "code",
   "execution_count": null,
   "metadata": {
    "collapsed": false
   },
   "outputs": [],
   "source": [
    "# Eine Abbildung mit 2x1 Subplots erstellen\n",
    "abb7 = plt.figure()\n",
    "axes7_1 = abb7.add_subplot(2,1,1) # Ersten von 2x1 Subplots erstellen\n",
    "axes7_2 = abb7.add_subplot(2,1,2) # Zweiten von 2x1 Subplots erstellen\n",
    "# In beiden Subplots plotten\n",
    "x = np.linspace(0, 2 * np.pi, 100)\n",
    "axes7_1.plot(x, np.sin(x), label=r'$\\sin(\\phi)$')\n",
    "axes7_2.plot(x, np.cos(x), label=r'$\\cos(\\phi)$')\n",
    "# Die Abbildung konfigurieren\n",
    "abb7.suptitle('Oszillation')\n",
    "axes7_1.set_xlim(0, 2 * np.pi)\n",
    "axes7_2.set_xlabel(r'Winkel $\\phi \\, [\\mathrm{rad}]$')\n",
    "axes7_1.legend(loc='lower left')\n",
    "axes7_2.legend(loc='lower left')"
   ]
  },
  {
   "cell_type": "markdown",
   "metadata": {},
   "source": [
    "## Plots speichern\n",
    "\n",
    "Mit `matplotlib.figure.Figure.savefig` könnt ihr einen Plot als Bilddatei speichern:"
   ]
  },
  {
   "cell_type": "code",
   "execution_count": null,
   "metadata": {
    "collapsed": false
   },
   "outputs": [],
   "source": [
    "abb7.savefig('plots/my_plot.png')"
   ]
  },
  {
   "cell_type": "markdown",
   "metadata": {},
   "source": [
    "> **Hinweis:** Um einen Plot im **DIN A4-Format** zu speichern könnt ihr dessen Größe und Auflösung anpassen:\n",
    ">\n",
    "> ```python\n",
    "> abb7.set_size_inches(11.69, 8.27)\n",
    "> abb7.savefig(filename, dpi=150)\n",
    "> ```"
   ]
  },
  {
   "cell_type": "markdown",
   "metadata": {},
   "source": [
    "> **Hinweis:** Um Plots in **LaTeX Dokumente** einzubinden bietet sich das [PGF Vektorformat](https://en.wikipedia.org/wiki/PGF/TikZ) statt Pixelgrafiken wie PNG an. Damit übernimmt LaTeX das Zeichnen des Plots und setzt zudem die enthaltenen Texte selbst, sodass die Fonts und Stile des Dokuments auch im Plot verwendet werden.\n",
    ">\n",
    "> Eine Beispiel-Implementierung findet ihr im [TexFig](https://github.com/knly/texfig) Repository."
   ]
  },
  {
   "cell_type": "markdown",
   "metadata": {},
   "source": [
    "## Aufgabe 1 - Temperaturen in Heidelberg visualisieren\n",
    "\n",
    "Wir visualisieren nun die Temperaturdaten mit denen wir schon numerisch gearbeitet haben. Lest die Daten zunächst erneut ein:"
   ]
  },
  {
   "cell_type": "code",
   "execution_count": null,
   "metadata": {
    "collapsed": false
   },
   "outputs": [],
   "source": [
    "# Zelle ausführen, um Daten einzulesen\n",
    "data = np.loadtxt('data/temperatures.txt')\n",
    "date, T = data[np.abs(data[:,1]) != 99,:].transpose()"
   ]
  },
  {
   "cell_type": "markdown",
   "metadata": {},
   "source": [
    "a) Plottet den Temperaturverlauf über den gesamten Zeitraum. Vergesst nicht Titel, Achsenbeschriftungen und Legende.\n",
    "\n",
    "**Hinweis:** Ihr könnt die Temperatureinheit als `^\\circ{}\\mathrm{C}` (rendert als $^\\circ{}\\mathrm{C}$) schreiben."
   ]
  },
  {
   "cell_type": "code",
   "execution_count": null,
   "metadata": {
    "collapsed": false,
    "nbgrader": {
     "grade": false,
     "grade_id": "202-1a-sol",
     "locked": false,
     "solution": true
    }
   },
   "outputs": [],
   "source": [
    "aufg1aAbb = plt.figure()\n",
    "aufg1aAxes = aufg1aAbb.add_subplot(1,1,1)\n",
    "\n",
    "aufg1aAxes.plot(date, T, label='Messwerte')\n",
    "aufg1aAxes.set_title('Temperaturverlauf in Heidelberg')\n",
    "aufg1aAxes.set_xlim(np.min(date), np.max(date))\n",
    "aufg1aAxes.set_xlabel(r'Zeitpunkt')\n",
    "aufg1aAxes.set_ylabel(r'Temperatur $T \\, [^\\circ{}\\mathrm{C}]$')\n",
    "aufg1aAxes.legend()"
   ]
  },
  {
   "cell_type": "markdown",
   "metadata": {},
   "source": [
    "Sieht dein Plot etwa so aus?\n",
    "\n",
    "![Temperaturverlauf in Heidelberg](plots/202-1a.png)"
   ]
  },
  {
   "cell_type": "code",
   "execution_count": null,
   "metadata": {
    "collapsed": false
   },
   "outputs": [],
   "source": [
    "# Setze die Variable auf `True` wenn du mit deinem Plot zufrieden bist:\n",
    "plot_1a_fertig = False"
   ]
  },
  {
   "cell_type": "code",
   "execution_count": null,
   "metadata": {
    "collapsed": false,
    "nbgrader": {
     "grade": true,
     "grade_id": "202-1a-test",
     "locked": true,
     "points": 1,
     "solution": false
    }
   },
   "outputs": [],
   "source": [
    "from nose.tools import assert_true\n",
    "assert_true(plot_1a_fertig, \"Versuche dich an Aufgabe 1a, bis du mit deinem Plot zufrieden bist.\")\n",
    "print(\"Sieht gut aus.\")"
   ]
  },
  {
   "cell_type": "markdown",
   "metadata": {},
   "source": [
    "b) Plottet den kombinierten Jahres-Temperaturverlauf, also die Temperaturdaten aufgetragen über dem Zeitpunkt innerhalb des Jahres.\n",
    "\n",
    "Plottet nur die Datenpunkte und keine verbindende Linie. Vergesst nicht Titel, Achsenbeschriftungen und Legende.\n",
    "\n",
    "**Hinweis:** Den Zeitpunkt innerhalb eines Jahres erhaltet ihr wieder mit dem Modulo Operator: `date % 1`"
   ]
  },
  {
   "cell_type": "code",
   "execution_count": null,
   "metadata": {
    "collapsed": false,
    "nbgrader": {
     "grade": false,
     "grade_id": "202-1b-sol",
     "locked": false,
     "solution": true
    }
   },
   "outputs": [],
   "source": [
    "aufg1bAbb = plt.figure()\n",
    "aufg1bAxes = aufg1bAbb.add_subplot(1,1,1)\n",
    "\n",
    "aufg1bAxes.scatter(date % 1, T, marker='.', label='Messwerte')\n",
    "aufg1bAxes.set_title('Jahres-Temperaturverlauf in Heidelberg')\n",
    "aufg1bAxes.set_xlim(0, 1)\n",
    "aufg1bAxes.set_xlabel(r'Zeitpunkt innerhalb des Jahres')\n",
    "aufg1bAxes.set_ylabel(r'Temperatur $T \\, [^\\circ{}\\mathrm{C}]$')\n",
    "aufg1bAxes.legend()"
   ]
  },
  {
   "cell_type": "markdown",
   "metadata": {
    "collapsed": true
   },
   "source": [
    "Sieht dein Plot etwa so aus?\n",
    "\n",
    "![Jahres-Temperaturverlauf in Heidelberg](plots/202-1b.png)"
   ]
  },
  {
   "cell_type": "code",
   "execution_count": null,
   "metadata": {
    "collapsed": true
   },
   "outputs": [],
   "source": [
    "# Setze die Variable auf `True` wenn du mit deinem Plot zufrieden bist:\n",
    "plot_1b_fertig = False"
   ]
  },
  {
   "cell_type": "code",
   "execution_count": null,
   "metadata": {
    "collapsed": false,
    "nbgrader": {
     "grade": true,
     "grade_id": "202-1b-test",
     "locked": true,
     "points": 1,
     "solution": false
    }
   },
   "outputs": [],
   "source": [
    "from nose.tools import assert_true\n",
    "assert_true(plot_1b_fertig, \"Versuche dich an Aufgabe 1b, bis du mit deinem Plot zufrieden bist.\")\n",
    "print(\"🖼 Wunderschön.\")"
   ]
  },
  {
   "cell_type": "markdown",
   "metadata": {},
   "source": [
    "---\n",
    "\n",
    "Nun kannst du Daten mit Numpy analysieren und mit Matplotlib plotten. Lerne in der nächsten Lektion wie du mit dem umfassenden wissenschaftlichen Paket _Scipy_ unter anderem Daten an Funktionen fitten kannst.\n",
    "\n",
    "[Startseite](index.ipynb) | [**>> 203 - Fits mit Scipy**](203 - Fits mit Scipy.ipynb)"
   ]
  }
 ],
 "metadata": {
  "kernelspec": {
   "display_name": "Python 3",
   "language": "python",
   "name": "python3"
  },
  "language_info": {
   "codemirror_mode": {
    "name": "ipython",
    "version": 3
   },
   "file_extension": ".py",
   "mimetype": "text/x-python",
   "name": "python",
   "nbconvert_exporter": "python",
   "pygments_lexer": "ipython3",
   "version": "3.5.1"
  }
 },
 "nbformat": 4,
 "nbformat_minor": 0
}
